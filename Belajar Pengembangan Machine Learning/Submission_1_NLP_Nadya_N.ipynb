{
  "nbformat": 4,
  "nbformat_minor": 0,
  "metadata": {
    "colab": {
      "name": "Submission_NLP_Nadya_Novalina.ipynb",
      "provenance": [],
      "collapsed_sections": []
    },
    "kernelspec": {
      "name": "python3",
      "display_name": "Python 3"
    },
    "language_info": {
      "name": "python"
    }
  },
  "cells": [
    {
      "cell_type": "code",
      "metadata": {
        "colab": {
          "base_uri": "https://localhost:8080/"
        },
        "id": "u5pW-kSXAPK6",
        "outputId": "334eaa74-dd8a-4df5-d5f1-13b4b2229837"
      },
      "source": [
        "#Connect Google Drive / Mount Google Drive\n",
        "from google.colab import drive\n",
        "drive.mount('/content/drive')"
      ],
      "execution_count": null,
      "outputs": [
        {
          "output_type": "stream",
          "text": [
            "Drive already mounted at /content/drive; to attempt to forcibly remount, call drive.mount(\"/content/drive\", force_remount=True).\n"
          ],
          "name": "stdout"
        }
      ]
    },
    {
      "cell_type": "code",
      "metadata": {
        "id": "XFByy0GYATKl"
      },
      "source": [
        "path = '/content/drive/My Drive/emotion.txt'"
      ],
      "execution_count": null,
      "outputs": []
    },
    {
      "cell_type": "code",
      "metadata": {
        "colab": {
          "base_uri": "https://localhost:8080/",
          "height": 204
        },
        "id": "YyubA6yQ_He_",
        "outputId": "9b3715d9-9846-44cc-9267-c496a19f31d0"
      },
      "source": [
        "import pandas as pd\n",
        "df = pd.read_csv(path, names=['sentences', 'emotions'], sep=';')\n",
        "df.tail()"
      ],
      "execution_count": null,
      "outputs": [
        {
          "output_type": "execute_result",
          "data": {
            "text/html": [
              "<div>\n",
              "<style scoped>\n",
              "    .dataframe tbody tr th:only-of-type {\n",
              "        vertical-align: middle;\n",
              "    }\n",
              "\n",
              "    .dataframe tbody tr th {\n",
              "        vertical-align: top;\n",
              "    }\n",
              "\n",
              "    .dataframe thead th {\n",
              "        text-align: right;\n",
              "    }\n",
              "</style>\n",
              "<table border=\"1\" class=\"dataframe\">\n",
              "  <thead>\n",
              "    <tr style=\"text-align: right;\">\n",
              "      <th></th>\n",
              "      <th>sentences</th>\n",
              "      <th>emotions</th>\n",
              "    </tr>\n",
              "  </thead>\n",
              "  <tbody>\n",
              "    <tr>\n",
              "      <th>15995</th>\n",
              "      <td>i just had a very brief time in the beanbag an...</td>\n",
              "      <td>sadness</td>\n",
              "    </tr>\n",
              "    <tr>\n",
              "      <th>15996</th>\n",
              "      <td>i am now turning and i feel pathetic that i am...</td>\n",
              "      <td>sadness</td>\n",
              "    </tr>\n",
              "    <tr>\n",
              "      <th>15997</th>\n",
              "      <td>i feel strong and good overall</td>\n",
              "      <td>joy</td>\n",
              "    </tr>\n",
              "    <tr>\n",
              "      <th>15998</th>\n",
              "      <td>i feel like this was such a rude comment and i...</td>\n",
              "      <td>anger</td>\n",
              "    </tr>\n",
              "    <tr>\n",
              "      <th>15999</th>\n",
              "      <td>i know a lot but i feel so stupid because i ca...</td>\n",
              "      <td>sadness</td>\n",
              "    </tr>\n",
              "  </tbody>\n",
              "</table>\n",
              "</div>"
            ],
            "text/plain": [
              "                                               sentences emotions\n",
              "15995  i just had a very brief time in the beanbag an...  sadness\n",
              "15996  i am now turning and i feel pathetic that i am...  sadness\n",
              "15997                     i feel strong and good overall      joy\n",
              "15998  i feel like this was such a rude comment and i...    anger\n",
              "15999  i know a lot but i feel so stupid because i ca...  sadness"
            ]
          },
          "metadata": {
            "tags": []
          },
          "execution_count": 19
        }
      ]
    },
    {
      "cell_type": "code",
      "metadata": {
        "colab": {
          "base_uri": "https://localhost:8080/",
          "height": 418
        },
        "id": "k76asGzsDuaT",
        "outputId": "a9dffb2c-4a89-4106-c94f-721760498042"
      },
      "source": [
        "category = pd.get_dummies(df.emotions)\n",
        "df_baru = pd.concat([df, category], axis=1)\n",
        "df_baru = df_baru.drop(columns='emotions')\n",
        "df_baru"
      ],
      "execution_count": null,
      "outputs": [
        {
          "output_type": "execute_result",
          "data": {
            "text/html": [
              "<div>\n",
              "<style scoped>\n",
              "    .dataframe tbody tr th:only-of-type {\n",
              "        vertical-align: middle;\n",
              "    }\n",
              "\n",
              "    .dataframe tbody tr th {\n",
              "        vertical-align: top;\n",
              "    }\n",
              "\n",
              "    .dataframe thead th {\n",
              "        text-align: right;\n",
              "    }\n",
              "</style>\n",
              "<table border=\"1\" class=\"dataframe\">\n",
              "  <thead>\n",
              "    <tr style=\"text-align: right;\">\n",
              "      <th></th>\n",
              "      <th>sentences</th>\n",
              "      <th>anger</th>\n",
              "      <th>fear</th>\n",
              "      <th>joy</th>\n",
              "      <th>love</th>\n",
              "      <th>sadness</th>\n",
              "      <th>surprise</th>\n",
              "    </tr>\n",
              "  </thead>\n",
              "  <tbody>\n",
              "    <tr>\n",
              "      <th>0</th>\n",
              "      <td>i didnt feel humiliated</td>\n",
              "      <td>0</td>\n",
              "      <td>0</td>\n",
              "      <td>0</td>\n",
              "      <td>0</td>\n",
              "      <td>1</td>\n",
              "      <td>0</td>\n",
              "    </tr>\n",
              "    <tr>\n",
              "      <th>1</th>\n",
              "      <td>i can go from feeling so hopeless to so damned...</td>\n",
              "      <td>0</td>\n",
              "      <td>0</td>\n",
              "      <td>0</td>\n",
              "      <td>0</td>\n",
              "      <td>1</td>\n",
              "      <td>0</td>\n",
              "    </tr>\n",
              "    <tr>\n",
              "      <th>2</th>\n",
              "      <td>im grabbing a minute to post i feel greedy wrong</td>\n",
              "      <td>1</td>\n",
              "      <td>0</td>\n",
              "      <td>0</td>\n",
              "      <td>0</td>\n",
              "      <td>0</td>\n",
              "      <td>0</td>\n",
              "    </tr>\n",
              "    <tr>\n",
              "      <th>3</th>\n",
              "      <td>i am ever feeling nostalgic about the fireplac...</td>\n",
              "      <td>0</td>\n",
              "      <td>0</td>\n",
              "      <td>0</td>\n",
              "      <td>1</td>\n",
              "      <td>0</td>\n",
              "      <td>0</td>\n",
              "    </tr>\n",
              "    <tr>\n",
              "      <th>4</th>\n",
              "      <td>i am feeling grouchy</td>\n",
              "      <td>1</td>\n",
              "      <td>0</td>\n",
              "      <td>0</td>\n",
              "      <td>0</td>\n",
              "      <td>0</td>\n",
              "      <td>0</td>\n",
              "    </tr>\n",
              "    <tr>\n",
              "      <th>...</th>\n",
              "      <td>...</td>\n",
              "      <td>...</td>\n",
              "      <td>...</td>\n",
              "      <td>...</td>\n",
              "      <td>...</td>\n",
              "      <td>...</td>\n",
              "      <td>...</td>\n",
              "    </tr>\n",
              "    <tr>\n",
              "      <th>15995</th>\n",
              "      <td>i just had a very brief time in the beanbag an...</td>\n",
              "      <td>0</td>\n",
              "      <td>0</td>\n",
              "      <td>0</td>\n",
              "      <td>0</td>\n",
              "      <td>1</td>\n",
              "      <td>0</td>\n",
              "    </tr>\n",
              "    <tr>\n",
              "      <th>15996</th>\n",
              "      <td>i am now turning and i feel pathetic that i am...</td>\n",
              "      <td>0</td>\n",
              "      <td>0</td>\n",
              "      <td>0</td>\n",
              "      <td>0</td>\n",
              "      <td>1</td>\n",
              "      <td>0</td>\n",
              "    </tr>\n",
              "    <tr>\n",
              "      <th>15997</th>\n",
              "      <td>i feel strong and good overall</td>\n",
              "      <td>0</td>\n",
              "      <td>0</td>\n",
              "      <td>1</td>\n",
              "      <td>0</td>\n",
              "      <td>0</td>\n",
              "      <td>0</td>\n",
              "    </tr>\n",
              "    <tr>\n",
              "      <th>15998</th>\n",
              "      <td>i feel like this was such a rude comment and i...</td>\n",
              "      <td>1</td>\n",
              "      <td>0</td>\n",
              "      <td>0</td>\n",
              "      <td>0</td>\n",
              "      <td>0</td>\n",
              "      <td>0</td>\n",
              "    </tr>\n",
              "    <tr>\n",
              "      <th>15999</th>\n",
              "      <td>i know a lot but i feel so stupid because i ca...</td>\n",
              "      <td>0</td>\n",
              "      <td>0</td>\n",
              "      <td>0</td>\n",
              "      <td>0</td>\n",
              "      <td>1</td>\n",
              "      <td>0</td>\n",
              "    </tr>\n",
              "  </tbody>\n",
              "</table>\n",
              "<p>16000 rows × 7 columns</p>\n",
              "</div>"
            ],
            "text/plain": [
              "                                               sentences  ...  surprise\n",
              "0                                i didnt feel humiliated  ...         0\n",
              "1      i can go from feeling so hopeless to so damned...  ...         0\n",
              "2       im grabbing a minute to post i feel greedy wrong  ...         0\n",
              "3      i am ever feeling nostalgic about the fireplac...  ...         0\n",
              "4                                   i am feeling grouchy  ...         0\n",
              "...                                                  ...  ...       ...\n",
              "15995  i just had a very brief time in the beanbag an...  ...         0\n",
              "15996  i am now turning and i feel pathetic that i am...  ...         0\n",
              "15997                     i feel strong and good overall  ...         0\n",
              "15998  i feel like this was such a rude comment and i...  ...         0\n",
              "15999  i know a lot but i feel so stupid because i ca...  ...         0\n",
              "\n",
              "[16000 rows x 7 columns]"
            ]
          },
          "metadata": {
            "tags": []
          },
          "execution_count": 20
        }
      ]
    },
    {
      "cell_type": "code",
      "metadata": {
        "id": "UePt9yR8FWZj"
      },
      "source": [
        "kalimat = df_baru['sentences'].values\n",
        "label = df_baru[['anger', 'fear', 'joy', 'love', 'sadness', 'surprise']].values"
      ],
      "execution_count": null,
      "outputs": []
    },
    {
      "cell_type": "code",
      "metadata": {
        "id": "LBrKJF93F8N2"
      },
      "source": [
        "from sklearn.model_selection import train_test_split\n",
        "kalimat_latih, kalimat_test, label_latih, label_test = train_test_split(kalimat, label, test_size=0.2)"
      ],
      "execution_count": null,
      "outputs": []
    },
    {
      "cell_type": "code",
      "metadata": {
        "id": "CJeBgkb6F8zw"
      },
      "source": [
        "from tensorflow.keras.preprocessing.text import Tokenizer\n",
        "from tensorflow.keras.preprocessing.sequence import pad_sequences\n",
        " \n",
        "tokenizer = Tokenizer(num_words=2000, oov_token='x')\n",
        "tokenizer.fit_on_texts(kalimat_latih) \n",
        "tokenizer.fit_on_texts(kalimat_test)\n",
        " \n",
        "sekuens_latih = tokenizer.texts_to_sequences(kalimat_latih)\n",
        "sekuens_test = tokenizer.texts_to_sequences(kalimat_test)\n",
        " \n",
        "padded_latih = pad_sequences(sekuens_latih) \n",
        "padded_test = pad_sequences(sekuens_test)"
      ],
      "execution_count": null,
      "outputs": []
    },
    {
      "cell_type": "code",
      "metadata": {
        "id": "SnVGJVqiGZqR"
      },
      "source": [
        "import tensorflow as tf\n",
        "from tensorflow.keras.models import Sequential\n",
        "from tensorflow.keras.layers import Embedding, Dense, Dropout, LSTM\n",
        "model = Sequential()\n",
        "model.add(Embedding(input_dim=2000, output_dim=16))\n",
        "model.add(LSTM(64))\n",
        "model.add(Dense(128, activation='relu'))\n",
        "model.add(Dense(64, activation='relu'))\n",
        "model.add(Dropout(0.2))\n",
        "model.add(Dense(6, activation='softmax'))\n",
        "\n",
        "model.compile(loss='categorical_crossentropy',optimizer='adam',metrics=['accuracy'])"
      ],
      "execution_count": null,
      "outputs": []
    },
    {
      "cell_type": "code",
      "metadata": {
        "id": "Qg2cO4CxJ5R4"
      },
      "source": [
        "class myCallback(tf.keras.callbacks.Callback):\n",
        "  def on_epoch_end(self, epoch, logs={}):\n",
        "    if(logs.get('accuracy')>0.99):\n",
        "      print(\"\\nAkurasi telah mencapai >99%!\")\n",
        "      self.model.stop_training = True\n",
        "callbacks = myCallback()"
      ],
      "execution_count": null,
      "outputs": []
    },
    {
      "cell_type": "code",
      "metadata": {
        "colab": {
          "base_uri": "https://localhost:8080/"
        },
        "id": "OZp-4phKGcdQ",
        "outputId": "ab4ad534-580e-443a-c6bd-d21bca7a81b0"
      },
      "source": [
        "num_epochs = 50\n",
        "\n",
        "history = model.fit(padded_latih, label_latih, epochs=num_epochs, batch_size = 32, \n",
        "                    validation_data=(padded_test, label_test), verbose=2, callbacks=[callbacks])"
      ],
      "execution_count": null,
      "outputs": [
        {
          "output_type": "stream",
          "text": [
            "Epoch 1/50\n",
            "400/400 - 13s - loss: 1.4699 - accuracy: 0.3491 - val_loss: 1.1816 - val_accuracy: 0.4319\n",
            "Epoch 2/50\n",
            "400/400 - 11s - loss: 1.0770 - accuracy: 0.5068 - val_loss: 0.8425 - val_accuracy: 0.7059\n",
            "Epoch 3/50\n",
            "400/400 - 11s - loss: 0.5848 - accuracy: 0.8006 - val_loss: 0.5632 - val_accuracy: 0.8128\n",
            "Epoch 4/50\n",
            "400/400 - 11s - loss: 0.4016 - accuracy: 0.8619 - val_loss: 0.4980 - val_accuracy: 0.8450\n",
            "Epoch 5/50\n",
            "400/400 - 11s - loss: 0.2999 - accuracy: 0.8976 - val_loss: 0.3883 - val_accuracy: 0.8750\n",
            "Epoch 6/50\n",
            "400/400 - 11s - loss: 0.2233 - accuracy: 0.9250 - val_loss: 0.3291 - val_accuracy: 0.8941\n",
            "Epoch 7/50\n",
            "400/400 - 11s - loss: 0.1749 - accuracy: 0.9399 - val_loss: 0.3397 - val_accuracy: 0.8919\n",
            "Epoch 8/50\n",
            "400/400 - 11s - loss: 0.1431 - accuracy: 0.9478 - val_loss: 0.3095 - val_accuracy: 0.9022\n",
            "Epoch 9/50\n",
            "400/400 - 11s - loss: 0.1281 - accuracy: 0.9541 - val_loss: 0.3343 - val_accuracy: 0.8988\n",
            "Epoch 10/50\n",
            "400/400 - 11s - loss: 0.1159 - accuracy: 0.9583 - val_loss: 0.3470 - val_accuracy: 0.8972\n",
            "Epoch 11/50\n",
            "400/400 - 11s - loss: 0.1013 - accuracy: 0.9622 - val_loss: 0.3488 - val_accuracy: 0.9053\n",
            "Epoch 12/50\n",
            "400/400 - 11s - loss: 0.0995 - accuracy: 0.9626 - val_loss: 0.3675 - val_accuracy: 0.8972\n",
            "Epoch 13/50\n",
            "400/400 - 11s - loss: 0.0834 - accuracy: 0.9690 - val_loss: 0.4108 - val_accuracy: 0.8944\n",
            "Epoch 14/50\n",
            "400/400 - 11s - loss: 0.0828 - accuracy: 0.9699 - val_loss: 0.3883 - val_accuracy: 0.9031\n",
            "Epoch 15/50\n",
            "400/400 - 11s - loss: 0.0716 - accuracy: 0.9741 - val_loss: 0.4440 - val_accuracy: 0.9062\n",
            "Epoch 16/50\n",
            "400/400 - 11s - loss: 0.0628 - accuracy: 0.9765 - val_loss: 0.4405 - val_accuracy: 0.9003\n",
            "Epoch 17/50\n",
            "400/400 - 11s - loss: 0.0548 - accuracy: 0.9796 - val_loss: 0.4901 - val_accuracy: 0.8972\n",
            "Epoch 18/50\n",
            "400/400 - 11s - loss: 0.0501 - accuracy: 0.9816 - val_loss: 0.5222 - val_accuracy: 0.8984\n",
            "Epoch 19/50\n",
            "400/400 - 11s - loss: 0.0544 - accuracy: 0.9796 - val_loss: 0.5218 - val_accuracy: 0.8997\n",
            "Epoch 20/50\n",
            "400/400 - 11s - loss: 0.0516 - accuracy: 0.9814 - val_loss: 0.4807 - val_accuracy: 0.9019\n",
            "Epoch 21/50\n",
            "400/400 - 11s - loss: 0.0419 - accuracy: 0.9848 - val_loss: 0.5117 - val_accuracy: 0.8966\n",
            "Epoch 22/50\n",
            "400/400 - 11s - loss: 0.0418 - accuracy: 0.9861 - val_loss: 0.5359 - val_accuracy: 0.8928\n",
            "Epoch 23/50\n",
            "400/400 - 11s - loss: 0.0414 - accuracy: 0.9862 - val_loss: 0.5770 - val_accuracy: 0.8984\n",
            "Epoch 24/50\n",
            "400/400 - 11s - loss: 0.0418 - accuracy: 0.9852 - val_loss: 0.4943 - val_accuracy: 0.8972\n",
            "Epoch 25/50\n",
            "400/400 - 11s - loss: 0.0315 - accuracy: 0.9869 - val_loss: 0.5437 - val_accuracy: 0.8969\n",
            "Epoch 26/50\n",
            "400/400 - 11s - loss: 0.0300 - accuracy: 0.9889 - val_loss: 0.6201 - val_accuracy: 0.8891\n",
            "Epoch 27/50\n",
            "400/400 - 11s - loss: 0.0324 - accuracy: 0.9884 - val_loss: 0.5725 - val_accuracy: 0.8956\n",
            "Epoch 28/50\n",
            "400/400 - 11s - loss: 0.0252 - accuracy: 0.9907 - val_loss: 0.6130 - val_accuracy: 0.8984\n",
            "\n",
            "Akurasi telah mencapai >99%!\n"
          ],
          "name": "stdout"
        }
      ]
    },
    {
      "cell_type": "code",
      "metadata": {
        "colab": {
          "base_uri": "https://localhost:8080/",
          "height": 573
        },
        "id": "bVrVYWsoKN6H",
        "outputId": "f6ef19a7-05cd-4009-a90a-d4133c3e2dba"
      },
      "source": [
        "# model accuracy\n",
        "plt.plot(history.history['accuracy'])\n",
        "plt.plot(history.history['val_accuracy'])\n",
        "plt.title('model accuracy')\n",
        "plt.ylabel('accuracy')\n",
        "plt.xlabel('epoch')\n",
        "plt.legend(['train', 'test'], loc='upper left')\n",
        "plt.show()\n",
        "# model loss\n",
        "plt.plot(history.history['loss'])\n",
        "plt.plot(history.history['val_loss'])\n",
        "plt.title('model loss')\n",
        "plt.ylabel('loss')\n",
        "plt.xlabel('epoch')\n",
        "plt.legend(['train', 'test'], loc='upper left')\n",
        "plt.show()"
      ],
      "execution_count": null,
      "outputs": [
        {
          "output_type": "display_data",
          "data": {
            "image/png": "[encoded data removed]",
            "text/plain": [
              "<Figure size 432x288 with 1 Axes>"
            ]
          },
          "metadata": {
            "tags": [],
            "needs_background": "light"
          }
        },
        {
          "output_type": "display_data",
          "data": {
            "image/png": "[encoded data removed]",
            "text/plain": [
              "<Figure size 432x288 with 1 Axes>"
            ]
          },
          "metadata": {
            "tags": [],
            "needs_background": "light"
          }
        }
      ]
    },
    {
      "cell_type": "code",
      "source": [
        "Dataset: https://www.kaggle.com/praveengovi/emotions-dataset-for-nlp?select=train.txt"
      ],
      "metadata": {
        "id": "3-y69gkrvNop"
      },
      "execution_count": null,
      "outputs": []
    }
  ]
}
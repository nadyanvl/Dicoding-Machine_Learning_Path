{
  "nbformat": 4,
  "nbformat_minor": 0,
  "metadata": {
    "colab": {
      "name": "Submission Proyek Akhir : Image Classification Model Deployment_Nadya Novalina.ipynb",
      "provenance": [],
      "collapsed_sections": []
    },
    "kernelspec": {
      "name": "python3",
      "display_name": "Python 3"
    },
    "language_info": {
      "name": "python"
    },
    "accelerator": "GPU"
  },
  "cells": [
    {
      "cell_type": "markdown",
      "metadata": {
        "id": "knwbjAwd5CnI"
      },
      "source": [
        "Nadya Novalina - Submission Proyek Akhir : Image Classification Model Deployment\n",
        "\n",
        "Dataset diambil dan dikumpulkan dari:\n",
        "1. https://www.kaggle.com/khnhtrng/flowers\n",
        "2. https://www.kaggle.com/joeylimzy/flowers\n",
        "3. https://www.kaggle.com/sammymilitante/flowerclass\n",
        "4. https://www.kaggle.com/bogdancretu/flower299\n",
        "5. https://www.kaggle.com/ayaanmustafa/flower\n",
        "6. https://www.kaggle.com/fasih1994/flowrs17-categorized\n",
        "7. https://www.dreamstime.com/\n",
        "8. https://www.kaggle.com/susamachokphoemphun/lotus-s\n",
        "\n",
        "Detail Dataset (Total: 11200) :\n",
        "\n",
        "1. Bellflower 1600\n",
        "2. Daisy 1600\n",
        "3. Dandelion 1600\n",
        "4. Lotus 1600\n",
        "5. Rose 1600\n",
        "6. Sunflower 1600\n",
        "7. Tulip 1600"
      ]
    },
    {
      "cell_type": "markdown",
      "metadata": {
        "id": "ZxglDe6SFgjM"
      },
      "source": [
        "Import Library"
      ]
    },
    {
      "cell_type": "code",
      "metadata": {
        "id": "zFap0UvM48B5"
      },
      "source": [
        "import keras\n",
        "import tensorflow as tf\n",
        "from tensorflow.keras import optimizers\n",
        "from tensorflow.keras.preprocessing.image import ImageDataGenerator\n",
        "from tensorflow.keras.layers import Conv2D, MaxPooling2D, Concatenate, Dropout , Flatten, Dense, BatchNormalization\n",
        "from tensorflow.keras.applications import Xception\n",
        "from tensorflow.python.keras import models\n",
        "from tensorflow.python.keras import layers\n",
        "\n",
        "import matplotlib.pyplot as plt\n",
        "\n",
        "import os\n",
        "from PIL import Image \n"
      ],
      "execution_count": 1,
      "outputs": []
    },
    {
      "cell_type": "markdown",
      "metadata": {
        "id": "ZKX3Y44QHLDV"
      },
      "source": [
        "Connect Google Drive / Mount Google Drive"
      ]
    },
    {
      "cell_type": "code",
      "metadata": {
        "colab": {
          "base_uri": "https://localhost:8080/"
        },
        "id": "4ZBbxQWqHL_P",
        "outputId": "78a03253-6c62-46f7-d3e1-1e0dd37548d6"
      },
      "source": [
        "from google.colab import drive\n",
        "drive.mount('/content/drive')"
      ],
      "execution_count": 2,
      "outputs": [
        {
          "output_type": "stream",
          "text": [
            "Drive already mounted at /content/drive; to attempt to forcibly remount, call drive.mount(\"/content/drive\", force_remount=True).\n"
          ],
          "name": "stdout"
        }
      ]
    },
    {
      "cell_type": "markdown",
      "metadata": {
        "id": "fI4ZdrD7KKM9"
      },
      "source": [
        "Detail Dataset"
      ]
    },
    {
      "cell_type": "code",
      "metadata": {
        "colab": {
          "base_uri": "https://localhost:8080/"
        },
        "id": "0CJ3D4EeKNw9",
        "outputId": "ceb695ba-6504-4199-b3d1-70d480781baa"
      },
      "source": [
        "base_dir = '/content/drive/My Drive/flowers/'\n",
        "flowers = os.listdir(base_dir)\n",
        "flowers"
      ],
      "execution_count": 3,
      "outputs": [
        {
          "output_type": "execute_result",
          "data": {
            "text/plain": [
              "['rose', 'bellflower', 'daisy', 'dandelion', 'lotus', 'sunflower', 'tulip']"
            ]
          },
          "metadata": {
            "tags": []
          },
          "execution_count": 3
        }
      ]
    },
    {
      "cell_type": "code",
      "metadata": {
        "colab": {
          "base_uri": "https://localhost:8080/"
        },
        "id": "3IwlxlRaK298",
        "outputId": "f8ae4d09-0a8b-4036-c9b1-cf6c9cc6862e"
      },
      "source": [
        "total = 0\n",
        "\n",
        "for i in flowers:\n",
        "  dir = os.path.join(base_dir, i)\n",
        "  num = len(os.listdir(dir))\n",
        "  print(i+':', num, '\\n')\n",
        "  total = total + num\n",
        "  \n",
        "  img_name = os.listdir(dir)\n",
        "  for k in range(7):\n",
        "    img_path = os.path.join(dir, img_name[k])\n",
        "    img = Image.open(img_path)\n",
        "    print('Dimensi Gambar :',img.size, 'pixels')\n",
        "    \n",
        "  print('__________________________________\\n')\n",
        "\n",
        "print('\\nTotal Dataset:', total)\n"
      ],
      "execution_count": 4,
      "outputs": [
        {
          "output_type": "stream",
          "text": [
            "rose: 1600 \n",
            "\n",
            "Dimensi Gambar : (320, 250) pixels\n",
            "Dimensi Gambar : (320, 240) pixels\n",
            "Dimensi Gambar : (320, 240) pixels\n",
            "Dimensi Gambar : (320, 240) pixels\n",
            "Dimensi Gambar : (236, 313) pixels\n",
            "Dimensi Gambar : (240, 159) pixels\n",
            "Dimensi Gambar : (240, 159) pixels\n",
            "__________________________________\n",
            "\n",
            "bellflower: 1600 \n",
            "\n",
            "Dimensi Gambar : (800, 533) pixels\n",
            "Dimensi Gambar : (800, 533) pixels\n",
            "Dimensi Gambar : (800, 533) pixels\n",
            "Dimensi Gambar : (800, 730) pixels\n",
            "Dimensi Gambar : (800, 600) pixels\n",
            "Dimensi Gambar : (706, 900) pixels\n",
            "Dimensi Gambar : (800, 533) pixels\n",
            "__________________________________\n",
            "\n",
            "daisy: 1600 \n",
            "\n",
            "Dimensi Gambar : (500, 333) pixels\n",
            "Dimensi Gambar : (240, 166) pixels\n",
            "Dimensi Gambar : (320, 240) pixels\n",
            "Dimensi Gambar : (500, 333) pixels\n",
            "Dimensi Gambar : (500, 333) pixels\n",
            "Dimensi Gambar : (320, 256) pixels\n",
            "Dimensi Gambar : (180, 240) pixels\n",
            "__________________________________\n",
            "\n",
            "dandelion: 1600 \n",
            "\n",
            "Dimensi Gambar : (240, 171) pixels\n",
            "Dimensi Gambar : (320, 240) pixels\n",
            "Dimensi Gambar : (180, 240) pixels\n",
            "Dimensi Gambar : (500, 332) pixels\n",
            "Dimensi Gambar : (240, 240) pixels\n",
            "Dimensi Gambar : (320, 229) pixels\n",
            "Dimensi Gambar : (240, 160) pixels\n",
            "__________________________________\n",
            "\n",
            "lotus: 1600 \n",
            "\n",
            "Dimensi Gambar : (301, 168) pixels\n",
            "Dimensi Gambar : (354, 250) pixels\n",
            "Dimensi Gambar : (225, 225) pixels\n",
            "Dimensi Gambar : (250, 387) pixels\n",
            "Dimensi Gambar : (375, 250) pixels\n",
            "Dimensi Gambar : (275, 183) pixels\n",
            "Dimensi Gambar : (374, 250) pixels\n",
            "__________________________________\n",
            "\n",
            "sunflower: 1600 \n",
            "\n",
            "Dimensi Gambar : (500, 321) pixels\n",
            "Dimensi Gambar : (500, 332) pixels\n",
            "Dimensi Gambar : (320, 240) pixels\n",
            "Dimensi Gambar : (500, 317) pixels\n",
            "Dimensi Gambar : (320, 240) pixels\n",
            "Dimensi Gambar : (386, 320) pixels\n",
            "Dimensi Gambar : (500, 333) pixels\n",
            "__________________________________\n",
            "\n",
            "tulip: 1600 \n",
            "\n",
            "Dimensi Gambar : (320, 213) pixels\n",
            "Dimensi Gambar : (240, 240) pixels\n",
            "Dimensi Gambar : (236, 314) pixels\n",
            "Dimensi Gambar : (500, 333) pixels\n",
            "Dimensi Gambar : (320, 240) pixels\n",
            "Dimensi Gambar : (236, 284) pixels\n",
            "Dimensi Gambar : (320, 213) pixels\n",
            "__________________________________\n",
            "\n",
            "\n",
            "Total Dataset: 11200\n"
          ],
          "name": "stdout"
        }
      ]
    },
    {
      "cell_type": "markdown",
      "metadata": {
        "id": "J3oWt4EKIJod"
      },
      "source": [
        "Generate image data (augmentasi gambar, preprocessing data, pembagian data)"
      ]
    },
    {
      "cell_type": "code",
      "metadata": {
        "colab": {
          "base_uri": "https://localhost:8080/"
        },
        "id": "ruztCxlNIc79",
        "outputId": "5b63cf0c-7121-450f-8f6f-f552cc18bba9"
      },
      "source": [
        "img_size   = (150, 150)\n",
        "batch_size = 32  \n",
        "num_epochs = 100\n",
        "lr         = 0.0001\n",
        "\n",
        "img_datagen = ImageDataGenerator(\n",
        "                    rescale=1./255,\n",
        "                    rotation_range=50,\n",
        "                    width_shift_range=0.2,\n",
        "                    height_shift_range=0.2,\n",
        "                    shear_range=0.2,\n",
        "                    zoom_range=0.2,\n",
        "                    horizontal_flip = True ,\n",
        "                    vertical_flip = True ,\n",
        "                    fill_mode='nearest',\n",
        "                    validation_split=0.2)\n",
        "\n",
        "\n",
        "train_generator = img_datagen.flow_from_directory(\n",
        "        base_dir,  # direktori data latih\n",
        "        target_size=img_size,  \n",
        "        batch_size=batch_size,\n",
        "        shuffle=True,\n",
        "        # karena merupakan masalah klasifikasi lebih 2 kelas maka menggunakan class_mode = 'categorical'\n",
        "        class_mode='categorical',\n",
        "        subset='training')\n",
        " \n",
        "validation_generator = img_datagen.flow_from_directory(\n",
        "        base_dir, # direktori data validasi\n",
        "        target_size=img_size, \n",
        "        batch_size=batch_size,\n",
        "        shuffle=True,\n",
        "        # karena merupakan masalah klasifikasi lebih 2 kelas maka menggunakan class_mode = 'categorical'\n",
        "        class_mode='categorical',\n",
        "        subset='validation')"
      ],
      "execution_count": 5,
      "outputs": [
        {
          "output_type": "stream",
          "text": [
            "Found 8960 images belonging to 7 classes.\n",
            "Found 2240 images belonging to 7 classes.\n"
          ],
          "name": "stdout"
        }
      ]
    },
    {
      "cell_type": "markdown",
      "metadata": {
        "id": "sdV2Q7OHIrQ7"
      },
      "source": [
        "Membangun arsitektur model dengan CNN"
      ]
    },
    {
      "cell_type": "code",
      "metadata": {
        "id": "OpxXpf_1JB2V",
        "colab": {
          "base_uri": "https://localhost:8080/"
        },
        "outputId": "0bd4c77e-1ff1-4a0e-c2f4-51b69d20d990"
      },
      "source": [
        "conv_base = Xception(weights='imagenet',\n",
        "                  include_top=False,\n",
        "                  input_shape=(150, 150, 3))\n",
        "\n",
        "conv_base.trainable = True\n",
        "\n",
        "\n",
        "model = models.Sequential()\n",
        "model.add(conv_base)\n",
        "\n",
        "model.add(layers.Conv2D(64, (3,3), activation='relu', input_shape=(150, 150, 3)))\n",
        "model.add(layers.MaxPooling2D(2,2))\n",
        "model.add(layers.Flatten())\n",
        "model.add(layers.Dropout(0.5))\n",
        "model.add(layers.Dense(256, activation='relu'))\n",
        "model.add(layers.Dense(7, activation='softmax')) #softmax digunakan karena untuk multi-class klasifikasi\n",
        "\n",
        "\n",
        "model.summary()"
      ],
      "execution_count": 6,
      "outputs": [
        {
          "output_type": "stream",
          "text": [
            "Model: \"sequential\"\n",
            "_________________________________________________________________\n",
            "Layer (type)                 Output Shape              Param #   \n",
            "=================================================================\n",
            "xception (Functional)        (None, 5, 5, 2048)        20861480  \n",
            "_________________________________________________________________\n",
            "conv2d_4 (Conv2D)            (None, 3, 3, 64)          1179712   \n",
            "_________________________________________________________________\n",
            "max_pooling2d (MaxPooling2D) (None, 1, 1, 64)          0         \n",
            "_________________________________________________________________\n",
            "flatten (Flatten)            (None, 64)                0         \n",
            "_________________________________________________________________\n",
            "dropout (Dropout)            (None, 64)                0         \n",
            "_________________________________________________________________\n",
            "dense (Dense)                (None, 256)               16640     \n",
            "_________________________________________________________________\n",
            "dense_1 (Dense)              (None, 7)                 1799      \n",
            "=================================================================\n",
            "Total params: 22,059,631\n",
            "Trainable params: 22,005,103\n",
            "Non-trainable params: 54,528\n",
            "_________________________________________________________________\n"
          ],
          "name": "stdout"
        }
      ]
    },
    {
      "cell_type": "markdown",
      "metadata": {
        "id": "r4fxxH7LKUvs"
      },
      "source": [
        "Callback"
      ]
    },
    {
      "cell_type": "code",
      "metadata": {
        "id": "WWp6jrb5KW3X"
      },
      "source": [
        "class myCallback(tf.keras.callbacks.Callback):\n",
        "  def on_epoch_end(self, epoch, logs={}):\n",
        "    if(logs.get('accuracy')>0.93 and logs.get('val_accuracy')>0.93):\n",
        "      print(\"\\nAkurasi telah mencapai >93%!\")\n",
        "      self.model.stop_training = True\n",
        "callbacks = myCallback()"
      ],
      "execution_count": 7,
      "outputs": []
    },
    {
      "cell_type": "markdown",
      "metadata": {
        "id": "GudF8gzjJaAG"
      },
      "source": [
        "Compile model"
      ]
    },
    {
      "cell_type": "code",
      "metadata": {
        "id": "xgALplKaJaxH"
      },
      "source": [
        "model.compile(loss='categorical_crossentropy',\n",
        "              optimizer=optimizers.Adam(learning_rate=lr),\n",
        "              metrics=['accuracy'])"
      ],
      "execution_count": 8,
      "outputs": []
    },
    {
      "cell_type": "markdown",
      "metadata": {
        "id": "o89cLhQbJjDi"
      },
      "source": [
        "Model training (pelatihan model)"
      ]
    },
    {
      "cell_type": "code",
      "metadata": {
        "id": "OFudUtxGJjsl",
        "colab": {
          "base_uri": "https://localhost:8080/"
        },
        "outputId": "45ec2251-7db1-4bc4-c5e2-baa411a60721"
      },
      "source": [
        "#FIT MODEL\n",
        "print(len(train_generator))\n",
        "print(len(validation_generator))\n",
        "\n",
        "step_size_train = train_generator.samples//batch_size\n",
        "step_size_val = validation_generator.samples//batch_size\n",
        "\n",
        "result = model.fit(\n",
        "      train_generator,\n",
        "      steps_per_epoch=step_size_train,  # berapa batch yang akan dieksekusi pada setiap epoch\n",
        "      epochs=num_epochs, # tambahkan epochs jika akurasi model belum optimal\n",
        "      validation_data=validation_generator, # menampilkan akurasi pengujian data validasi\n",
        "      validation_steps=step_size_val,  # berapa batch yang akan dieksekusi pada setiap epoch\n",
        "      verbose=1, \n",
        "      callbacks=[callbacks]\n",
        "      )"
      ],
      "execution_count": 9,
      "outputs": [
        {
          "output_type": "stream",
          "text": [
            "280\n",
            "70\n",
            "Epoch 1/100\n",
            "280/280 [==============================] - 157s 530ms/step - loss: 0.8940 - accuracy: 0.6895 - val_loss: 0.4310 - val_accuracy: 0.8576\n",
            "Epoch 2/100\n",
            "280/280 [==============================] - 147s 524ms/step - loss: 0.3822 - accuracy: 0.8849 - val_loss: 0.3287 - val_accuracy: 0.8929\n",
            "Epoch 3/100\n",
            "280/280 [==============================] - 147s 525ms/step - loss: 0.2820 - accuracy: 0.9157 - val_loss: 0.2758 - val_accuracy: 0.9094\n",
            "Epoch 4/100\n",
            "280/280 [==============================] - 149s 530ms/step - loss: 0.2425 - accuracy: 0.9311 - val_loss: 0.2858 - val_accuracy: 0.9165\n",
            "Epoch 5/100\n",
            "280/280 [==============================] - 148s 529ms/step - loss: 0.2145 - accuracy: 0.9405 - val_loss: 0.2976 - val_accuracy: 0.9129\n",
            "Epoch 6/100\n",
            "280/280 [==============================] - 150s 533ms/step - loss: 0.1780 - accuracy: 0.9510 - val_loss: 0.2571 - val_accuracy: 0.9205\n",
            "Epoch 7/100\n",
            "280/280 [==============================] - 146s 521ms/step - loss: 0.1414 - accuracy: 0.9565 - val_loss: 0.2878 - val_accuracy: 0.9241\n",
            "Epoch 8/100\n",
            "280/280 [==============================] - 147s 525ms/step - loss: 0.1303 - accuracy: 0.9646 - val_loss: 0.2696 - val_accuracy: 0.9263\n",
            "Epoch 9/100\n",
            "280/280 [==============================] - 148s 529ms/step - loss: 0.1158 - accuracy: 0.9645 - val_loss: 0.3032 - val_accuracy: 0.9228\n",
            "Epoch 10/100\n",
            "280/280 [==============================] - 147s 525ms/step - loss: 0.1098 - accuracy: 0.9676 - val_loss: 0.3124 - val_accuracy: 0.9201\n",
            "Epoch 11/100\n",
            "280/280 [==============================] - 147s 524ms/step - loss: 0.1014 - accuracy: 0.9719 - val_loss: 0.2901 - val_accuracy: 0.9214\n",
            "Epoch 12/100\n",
            "280/280 [==============================] - 148s 530ms/step - loss: 0.0933 - accuracy: 0.9752 - val_loss: 0.3119 - val_accuracy: 0.9210\n",
            "Epoch 13/100\n",
            "280/280 [==============================] - 149s 532ms/step - loss: 0.1002 - accuracy: 0.9715 - val_loss: 0.3018 - val_accuracy: 0.9196\n",
            "Epoch 14/100\n",
            "280/280 [==============================] - 150s 537ms/step - loss: 0.0792 - accuracy: 0.9766 - val_loss: 0.3074 - val_accuracy: 0.9312\n",
            "\n",
            "Akurasi telah mencapai >93%!\n"
          ],
          "name": "stdout"
        }
      ]
    },
    {
      "cell_type": "markdown",
      "metadata": {
        "id": "GVlrv8tzJrwi"
      },
      "source": [
        "Visualisasi data"
      ]
    },
    {
      "cell_type": "code",
      "metadata": {
        "id": "D-TMQEPuMKHo",
        "colab": {
          "base_uri": "https://localhost:8080/",
          "height": 573
        },
        "outputId": "5bb3885b-03a8-4e05-f9e3-2ec173cff393"
      },
      "source": [
        "\n",
        "\n",
        "# Plot Model Accuracy\n",
        "acc = result.history['accuracy']\n",
        "val_acc = result.history['val_accuracy']\n",
        "#jumlah epochs\n",
        "epochs = range(len(acc))\n",
        "plt.plot(epochs, acc, label='Training Accuracy')\n",
        "plt.plot(epochs, val_acc, label='Validation Accuracy')\n",
        "plt.title('Training and Validation Accuracy')\n",
        "plt.xlabel('Epochs')\n",
        "plt.ylabel('Accuracy')\n",
        "plt.legend()\n",
        "plt.grid(True)\n",
        "plt.show()\n",
        "\n",
        "# Plot Model Loss\n",
        "loss_train = result.history['loss']\n",
        "loss_val = result.history['val_loss']\n",
        "plt.plot(epochs, loss_train,  label='Training Loss')\n",
        "plt.plot(epochs, loss_val, label='Validation Loss')\n",
        "plt.title('Training and Validation Loss')\n",
        "plt.xlabel('Epochs')\n",
        "plt.ylabel('Loss')\n",
        "plt.legend()\n",
        "plt.grid(True)\n",
        "plt.show()"
      ],
      "execution_count": 13,
      "outputs": [
        {
          "output_type": "display_data",
          "data": {
            "image/png": "[encoded data removed]",
            "text/plain": [
              "<Figure size 432x288 with 1 Axes>"
            ]
          },
          "metadata": {
            "tags": [],
            "needs_background": "light"
          }
        },
        {
          "output_type": "display_data",
          "data": {
            "image/png": "[encoded data removed]",
            "text/plain": [
              "<Figure size 432x288 with 1 Axes>"
            ]
          },
          "metadata": {
            "tags": [],
            "needs_background": "light"
          }
        }
      ]
    },
    {
      "cell_type": "markdown",
      "metadata": {
        "id": "9rzSrlQ9NoP0"
      },
      "source": [
        "Export TFlite"
      ]
    },
    {
      "cell_type": "code",
      "metadata": {
        "id": "gM0uuajeNp5i",
        "colab": {
          "base_uri": "https://localhost:8080/"
        },
        "outputId": "e96a5545-db17-4e14-8192-a9009c154fee"
      },
      "source": [
        "# Konversi model\n",
        "converter = tf.lite.TFLiteConverter.from_keras_model(model)\n",
        "tflite_model = converter.convert()\n",
        "\n",
        "# Menyimpan model\n",
        "with tf.io.gfile.GFile('model.tflite', 'wb') as f:\n",
        "  f.write(tflite_model)"
      ],
      "execution_count": 14,
      "outputs": [
        {
          "output_type": "stream",
          "text": [
            "/usr/local/lib/python3.7/dist-packages/tensorflow/python/keras/utils/generic_utils.py:497: CustomMaskWarning: Custom mask layers require a config and must override get_config. When loading, the custom mask layer must be passed to the custom_objects argument.\n",
            "  category=CustomMaskWarning)\n"
          ],
          "name": "stderr"
        },
        {
          "output_type": "stream",
          "text": [
            "INFO:tensorflow:Assets written to: /tmp/tmp8e65zury/assets\n"
          ],
          "name": "stdout"
        }
      ]
    }
  ]
}
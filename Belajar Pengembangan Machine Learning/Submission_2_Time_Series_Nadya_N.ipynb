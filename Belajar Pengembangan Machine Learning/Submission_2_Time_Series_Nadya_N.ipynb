{
  "nbformat": 4,
  "nbformat_minor": 0,
  "metadata": {
    "accelerator": "GPU",
    "colab": {
      "name": "Submission 2 Time Series_Nadya Novalina.ipynb",
      "provenance": [],
      "collapsed_sections": []
    },
    "kernelspec": {
      "display_name": "Python 3",
      "name": "python3"
    },
    "language_info": {
      "name": "python"
    }
  },
  "cells": [
    {
      "cell_type": "markdown",
      "metadata": {
        "id": "uXUeaTC5jNlW"
      },
      "source": [
        "Submission 2 Belajar Pengembangan Machine Learning - Time Series\n",
        "\n",
        "Nadya Novalina"
      ]
    },
    {
      "cell_type": "markdown",
      "metadata": {
        "id": "u0YIR9UMjhYq"
      },
      "source": [
        "Import Library"
      ]
    },
    {
      "cell_type": "code",
      "metadata": {
        "id": "NifNe1ydjM4u"
      },
      "source": [
        "import numpy as np\n",
        "import pandas as pd\n",
        "from keras.layers import Dense, LSTM\n",
        "import matplotlib.pyplot as plt\n",
        "import tensorflow as tf\n",
        "from tensorflow.keras.models import Sequential\n",
        "from tensorflow.keras.layers import LSTM,Dense,Bidirectional,Dropout\n",
        "\n",
        "from sklearn.model_selection import train_test_split\n",
        "from sklearn.metrics import mean_absolute_error\n",
        "from sklearn.preprocessing import MinMaxScaler"
      ],
      "execution_count": 1,
      "outputs": []
    },
    {
      "cell_type": "markdown",
      "metadata": {
        "id": "Ud4hKcJt8a_P"
      },
      "source": [
        "Connect Google Drive / Mount Google Drive"
      ]
    },
    {
      "cell_type": "code",
      "metadata": {
        "colab": {
          "base_uri": "https://localhost:8080/"
        },
        "id": "A9i5LGx08WxQ",
        "outputId": "c74eb49c-0699-4278-9c9c-bdb53ef341df"
      },
      "source": [
        "from google.colab import drive\n",
        "drive.mount('/content/drive')"
      ],
      "execution_count": 2,
      "outputs": [
        {
          "output_type": "stream",
          "text": [
            "Drive already mounted at /content/drive; to attempt to forcibly remount, call drive.mount(\"/content/drive\", force_remount=True).\n"
          ],
          "name": "stdout"
        }
      ]
    },
    {
      "cell_type": "code",
      "metadata": {
        "id": "gMjybAHE8JNz"
      },
      "source": [
        "path = '/content/drive/My Drive/GlobalLandTemperaturesByCity.csv' "
      ],
      "execution_count": 3,
      "outputs": []
    },
    {
      "cell_type": "markdown",
      "metadata": {
        "id": "V8Joky1Zj0YC"
      },
      "source": [
        "Ubah dataset menjadi dataframe dengan fungsi read_csv()"
      ]
    },
    {
      "cell_type": "code",
      "metadata": {
        "colab": {
          "base_uri": "https://localhost:8080/",
          "height": 204
        },
        "id": "Fy0oT-EmjoQL",
        "outputId": "29da9860-9d0e-4c25-f601-6df2652cd17c"
      },
      "source": [
        "data_train = pd.read_csv(path)\n",
        "data_train.head()"
      ],
      "execution_count": 4,
      "outputs": [
        {
          "output_type": "execute_result",
          "data": {
            "text/html": [
              "<div>\n",
              "<style scoped>\n",
              "    .dataframe tbody tr th:only-of-type {\n",
              "        vertical-align: middle;\n",
              "    }\n",
              "\n",
              "    .dataframe tbody tr th {\n",
              "        vertical-align: top;\n",
              "    }\n",
              "\n",
              "    .dataframe thead th {\n",
              "        text-align: right;\n",
              "    }\n",
              "</style>\n",
              "<table border=\"1\" class=\"dataframe\">\n",
              "  <thead>\n",
              "    <tr style=\"text-align: right;\">\n",
              "      <th></th>\n",
              "      <th>dt</th>\n",
              "      <th>AverageTemperature</th>\n",
              "      <th>AverageTemperatureUncertainty</th>\n",
              "      <th>City</th>\n",
              "      <th>Country</th>\n",
              "      <th>Latitude</th>\n",
              "      <th>Longitude</th>\n",
              "    </tr>\n",
              "  </thead>\n",
              "  <tbody>\n",
              "    <tr>\n",
              "      <th>0</th>\n",
              "      <td>1743-11-01</td>\n",
              "      <td>6.068</td>\n",
              "      <td>1.737</td>\n",
              "      <td>Århus</td>\n",
              "      <td>Denmark</td>\n",
              "      <td>57.05N</td>\n",
              "      <td>10.33E</td>\n",
              "    </tr>\n",
              "    <tr>\n",
              "      <th>1</th>\n",
              "      <td>1743-12-01</td>\n",
              "      <td>NaN</td>\n",
              "      <td>NaN</td>\n",
              "      <td>Århus</td>\n",
              "      <td>Denmark</td>\n",
              "      <td>57.05N</td>\n",
              "      <td>10.33E</td>\n",
              "    </tr>\n",
              "    <tr>\n",
              "      <th>2</th>\n",
              "      <td>1744-01-01</td>\n",
              "      <td>NaN</td>\n",
              "      <td>NaN</td>\n",
              "      <td>Århus</td>\n",
              "      <td>Denmark</td>\n",
              "      <td>57.05N</td>\n",
              "      <td>10.33E</td>\n",
              "    </tr>\n",
              "    <tr>\n",
              "      <th>3</th>\n",
              "      <td>1744-02-01</td>\n",
              "      <td>NaN</td>\n",
              "      <td>NaN</td>\n",
              "      <td>Århus</td>\n",
              "      <td>Denmark</td>\n",
              "      <td>57.05N</td>\n",
              "      <td>10.33E</td>\n",
              "    </tr>\n",
              "    <tr>\n",
              "      <th>4</th>\n",
              "      <td>1744-03-01</td>\n",
              "      <td>NaN</td>\n",
              "      <td>NaN</td>\n",
              "      <td>Århus</td>\n",
              "      <td>Denmark</td>\n",
              "      <td>57.05N</td>\n",
              "      <td>10.33E</td>\n",
              "    </tr>\n",
              "  </tbody>\n",
              "</table>\n",
              "</div>"
            ],
            "text/plain": [
              "           dt  AverageTemperature  ...  Latitude Longitude\n",
              "0  1743-11-01               6.068  ...    57.05N    10.33E\n",
              "1  1743-12-01                 NaN  ...    57.05N    10.33E\n",
              "2  1744-01-01                 NaN  ...    57.05N    10.33E\n",
              "3  1744-02-01                 NaN  ...    57.05N    10.33E\n",
              "4  1744-03-01                 NaN  ...    57.05N    10.33E\n",
              "\n",
              "[5 rows x 7 columns]"
            ]
          },
          "metadata": {
            "tags": []
          },
          "execution_count": 4
        }
      ]
    },
    {
      "cell_type": "markdown",
      "metadata": {
        "id": "nHDNmNnea8zd"
      },
      "source": [
        "Mengambil data temperatur Indonesia\n",
        "\n"
      ]
    },
    {
      "cell_type": "code",
      "metadata": {
        "colab": {
          "base_uri": "https://localhost:8080/",
          "height": 418
        },
        "id": "qwrpF9lma_X_",
        "outputId": "a642ff61-8a50-4b02-be1e-b80286368f31"
      },
      "source": [
        "data_train = data_train.loc[data_train['Country'].isin(['Indonesia'])]\n",
        "data_train"
      ],
      "execution_count": 5,
      "outputs": [
        {
          "output_type": "execute_result",
          "data": {
            "text/html": [
              "<div>\n",
              "<style scoped>\n",
              "    .dataframe tbody tr th:only-of-type {\n",
              "        vertical-align: middle;\n",
              "    }\n",
              "\n",
              "    .dataframe tbody tr th {\n",
              "        vertical-align: top;\n",
              "    }\n",
              "\n",
              "    .dataframe thead th {\n",
              "        text-align: right;\n",
              "    }\n",
              "</style>\n",
              "<table border=\"1\" class=\"dataframe\">\n",
              "  <thead>\n",
              "    <tr style=\"text-align: right;\">\n",
              "      <th></th>\n",
              "      <th>dt</th>\n",
              "      <th>AverageTemperature</th>\n",
              "      <th>AverageTemperatureUncertainty</th>\n",
              "      <th>City</th>\n",
              "      <th>Country</th>\n",
              "      <th>Latitude</th>\n",
              "      <th>Longitude</th>\n",
              "    </tr>\n",
              "  </thead>\n",
              "  <tbody>\n",
              "    <tr>\n",
              "      <th>84977</th>\n",
              "      <td>1825-01-01</td>\n",
              "      <td>26.193</td>\n",
              "      <td>2.113</td>\n",
              "      <td>Adiwerna</td>\n",
              "      <td>Indonesia</td>\n",
              "      <td>7.23S</td>\n",
              "      <td>109.46E</td>\n",
              "    </tr>\n",
              "    <tr>\n",
              "      <th>84978</th>\n",
              "      <td>1825-02-01</td>\n",
              "      <td>25.618</td>\n",
              "      <td>1.351</td>\n",
              "      <td>Adiwerna</td>\n",
              "      <td>Indonesia</td>\n",
              "      <td>7.23S</td>\n",
              "      <td>109.46E</td>\n",
              "    </tr>\n",
              "    <tr>\n",
              "      <th>84979</th>\n",
              "      <td>1825-03-01</td>\n",
              "      <td>25.970</td>\n",
              "      <td>1.876</td>\n",
              "      <td>Adiwerna</td>\n",
              "      <td>Indonesia</td>\n",
              "      <td>7.23S</td>\n",
              "      <td>109.46E</td>\n",
              "    </tr>\n",
              "    <tr>\n",
              "      <th>84980</th>\n",
              "      <td>1825-04-01</td>\n",
              "      <td>26.687</td>\n",
              "      <td>2.039</td>\n",
              "      <td>Adiwerna</td>\n",
              "      <td>Indonesia</td>\n",
              "      <td>7.23S</td>\n",
              "      <td>109.46E</td>\n",
              "    </tr>\n",
              "    <tr>\n",
              "      <th>84981</th>\n",
              "      <td>1825-05-01</td>\n",
              "      <td>26.148</td>\n",
              "      <td>1.090</td>\n",
              "      <td>Adiwerna</td>\n",
              "      <td>Indonesia</td>\n",
              "      <td>7.23S</td>\n",
              "      <td>109.46E</td>\n",
              "    </tr>\n",
              "    <tr>\n",
              "      <th>...</th>\n",
              "      <td>...</td>\n",
              "      <td>...</td>\n",
              "      <td>...</td>\n",
              "      <td>...</td>\n",
              "      <td>...</td>\n",
              "      <td>...</td>\n",
              "      <td>...</td>\n",
              "    </tr>\n",
              "    <tr>\n",
              "      <th>8427762</th>\n",
              "      <td>2013-05-01</td>\n",
              "      <td>27.125</td>\n",
              "      <td>0.193</td>\n",
              "      <td>Yogyakarta</td>\n",
              "      <td>Indonesia</td>\n",
              "      <td>7.23S</td>\n",
              "      <td>111.08E</td>\n",
              "    </tr>\n",
              "    <tr>\n",
              "      <th>8427763</th>\n",
              "      <td>2013-06-01</td>\n",
              "      <td>26.909</td>\n",
              "      <td>0.538</td>\n",
              "      <td>Yogyakarta</td>\n",
              "      <td>Indonesia</td>\n",
              "      <td>7.23S</td>\n",
              "      <td>111.08E</td>\n",
              "    </tr>\n",
              "    <tr>\n",
              "      <th>8427764</th>\n",
              "      <td>2013-07-01</td>\n",
              "      <td>26.377</td>\n",
              "      <td>0.376</td>\n",
              "      <td>Yogyakarta</td>\n",
              "      <td>Indonesia</td>\n",
              "      <td>7.23S</td>\n",
              "      <td>111.08E</td>\n",
              "    </tr>\n",
              "    <tr>\n",
              "      <th>8427765</th>\n",
              "      <td>2013-08-01</td>\n",
              "      <td>26.950</td>\n",
              "      <td>0.473</td>\n",
              "      <td>Yogyakarta</td>\n",
              "      <td>Indonesia</td>\n",
              "      <td>7.23S</td>\n",
              "      <td>111.08E</td>\n",
              "    </tr>\n",
              "    <tr>\n",
              "      <th>8427766</th>\n",
              "      <td>2013-09-01</td>\n",
              "      <td>NaN</td>\n",
              "      <td>NaN</td>\n",
              "      <td>Yogyakarta</td>\n",
              "      <td>Indonesia</td>\n",
              "      <td>7.23S</td>\n",
              "      <td>111.08E</td>\n",
              "    </tr>\n",
              "  </tbody>\n",
              "</table>\n",
              "<p>323255 rows × 7 columns</p>\n",
              "</div>"
            ],
            "text/plain": [
              "                 dt  AverageTemperature  ...  Latitude Longitude\n",
              "84977    1825-01-01              26.193  ...     7.23S   109.46E\n",
              "84978    1825-02-01              25.618  ...     7.23S   109.46E\n",
              "84979    1825-03-01              25.970  ...     7.23S   109.46E\n",
              "84980    1825-04-01              26.687  ...     7.23S   109.46E\n",
              "84981    1825-05-01              26.148  ...     7.23S   109.46E\n",
              "...             ...                 ...  ...       ...       ...\n",
              "8427762  2013-05-01              27.125  ...     7.23S   111.08E\n",
              "8427763  2013-06-01              26.909  ...     7.23S   111.08E\n",
              "8427764  2013-07-01              26.377  ...     7.23S   111.08E\n",
              "8427765  2013-08-01              26.950  ...     7.23S   111.08E\n",
              "8427766  2013-09-01                 NaN  ...     7.23S   111.08E\n",
              "\n",
              "[323255 rows x 7 columns]"
            ]
          },
          "metadata": {
            "tags": []
          },
          "execution_count": 5
        }
      ]
    },
    {
      "cell_type": "markdown",
      "metadata": {
        "id": "sGC94-QHjt1o"
      },
      "source": [
        "Cek data hilang"
      ]
    },
    {
      "cell_type": "code",
      "metadata": {
        "colab": {
          "base_uri": "https://localhost:8080/"
        },
        "id": "YAtJwHiZjvkm",
        "outputId": "116f4946-ab14-4eeb-bbd4-981c48a0aef7"
      },
      "source": [
        "data_train.isnull().sum()"
      ],
      "execution_count": 6,
      "outputs": [
        {
          "output_type": "execute_result",
          "data": {
            "text/plain": [
              "dt                                   0\n",
              "AverageTemperature               49960\n",
              "AverageTemperatureUncertainty    49960\n",
              "City                                 0\n",
              "Country                              0\n",
              "Latitude                             0\n",
              "Longitude                            0\n",
              "dtype: int64"
            ]
          },
          "metadata": {
            "tags": []
          },
          "execution_count": 6
        }
      ]
    },
    {
      "cell_type": "markdown",
      "metadata": {
        "id": "7wCXrrsebgtO"
      },
      "source": [
        "Drop data yg memiliki nilai null"
      ]
    },
    {
      "cell_type": "code",
      "metadata": {
        "colab": {
          "base_uri": "https://localhost:8080/"
        },
        "id": "1JW4ldBAbkLP",
        "outputId": "f7f206ef-ea80-4a7c-e998-ba43f5da74d2"
      },
      "source": [
        "data_train.dropna(subset=['AverageTemperature'],inplace=True)\n",
        "data_train.dropna(subset=['AverageTemperatureUncertainty'],inplace=True)\n",
        "data_train.isnull().sum()"
      ],
      "execution_count": 7,
      "outputs": [
        {
          "output_type": "execute_result",
          "data": {
            "text/plain": [
              "dt                               0\n",
              "AverageTemperature               0\n",
              "AverageTemperatureUncertainty    0\n",
              "City                             0\n",
              "Country                          0\n",
              "Latitude                         0\n",
              "Longitude                        0\n",
              "dtype: int64"
            ]
          },
          "metadata": {
            "tags": []
          },
          "execution_count": 7
        }
      ]
    },
    {
      "cell_type": "markdown",
      "metadata": {
        "id": "BRvvC9AHbt6M"
      },
      "source": [
        "Drop column yang tidak dibutuhkan"
      ]
    },
    {
      "cell_type": "code",
      "metadata": {
        "colab": {
          "base_uri": "https://localhost:8080/",
          "height": 418
        },
        "id": "Jse2pu4CcAag",
        "outputId": "e774114b-3750-497c-b16e-7cba471bdbcb"
      },
      "source": [
        "data_train.drop(['AverageTemperatureUncertainty','City', 'Latitude', 'Longitude'], axis=1, inplace=True)\n",
        "data_train"
      ],
      "execution_count": 8,
      "outputs": [
        {
          "output_type": "execute_result",
          "data": {
            "text/html": [
              "<div>\n",
              "<style scoped>\n",
              "    .dataframe tbody tr th:only-of-type {\n",
              "        vertical-align: middle;\n",
              "    }\n",
              "\n",
              "    .dataframe tbody tr th {\n",
              "        vertical-align: top;\n",
              "    }\n",
              "\n",
              "    .dataframe thead th {\n",
              "        text-align: right;\n",
              "    }\n",
              "</style>\n",
              "<table border=\"1\" class=\"dataframe\">\n",
              "  <thead>\n",
              "    <tr style=\"text-align: right;\">\n",
              "      <th></th>\n",
              "      <th>dt</th>\n",
              "      <th>AverageTemperature</th>\n",
              "      <th>Country</th>\n",
              "    </tr>\n",
              "  </thead>\n",
              "  <tbody>\n",
              "    <tr>\n",
              "      <th>84977</th>\n",
              "      <td>1825-01-01</td>\n",
              "      <td>26.193</td>\n",
              "      <td>Indonesia</td>\n",
              "    </tr>\n",
              "    <tr>\n",
              "      <th>84978</th>\n",
              "      <td>1825-02-01</td>\n",
              "      <td>25.618</td>\n",
              "      <td>Indonesia</td>\n",
              "    </tr>\n",
              "    <tr>\n",
              "      <th>84979</th>\n",
              "      <td>1825-03-01</td>\n",
              "      <td>25.970</td>\n",
              "      <td>Indonesia</td>\n",
              "    </tr>\n",
              "    <tr>\n",
              "      <th>84980</th>\n",
              "      <td>1825-04-01</td>\n",
              "      <td>26.687</td>\n",
              "      <td>Indonesia</td>\n",
              "    </tr>\n",
              "    <tr>\n",
              "      <th>84981</th>\n",
              "      <td>1825-05-01</td>\n",
              "      <td>26.148</td>\n",
              "      <td>Indonesia</td>\n",
              "    </tr>\n",
              "    <tr>\n",
              "      <th>...</th>\n",
              "      <td>...</td>\n",
              "      <td>...</td>\n",
              "      <td>...</td>\n",
              "    </tr>\n",
              "    <tr>\n",
              "      <th>8427761</th>\n",
              "      <td>2013-04-01</td>\n",
              "      <td>27.047</td>\n",
              "      <td>Indonesia</td>\n",
              "    </tr>\n",
              "    <tr>\n",
              "      <th>8427762</th>\n",
              "      <td>2013-05-01</td>\n",
              "      <td>27.125</td>\n",
              "      <td>Indonesia</td>\n",
              "    </tr>\n",
              "    <tr>\n",
              "      <th>8427763</th>\n",
              "      <td>2013-06-01</td>\n",
              "      <td>26.909</td>\n",
              "      <td>Indonesia</td>\n",
              "    </tr>\n",
              "    <tr>\n",
              "      <th>8427764</th>\n",
              "      <td>2013-07-01</td>\n",
              "      <td>26.377</td>\n",
              "      <td>Indonesia</td>\n",
              "    </tr>\n",
              "    <tr>\n",
              "      <th>8427765</th>\n",
              "      <td>2013-08-01</td>\n",
              "      <td>26.950</td>\n",
              "      <td>Indonesia</td>\n",
              "    </tr>\n",
              "  </tbody>\n",
              "</table>\n",
              "<p>273295 rows × 3 columns</p>\n",
              "</div>"
            ],
            "text/plain": [
              "                 dt  AverageTemperature    Country\n",
              "84977    1825-01-01              26.193  Indonesia\n",
              "84978    1825-02-01              25.618  Indonesia\n",
              "84979    1825-03-01              25.970  Indonesia\n",
              "84980    1825-04-01              26.687  Indonesia\n",
              "84981    1825-05-01              26.148  Indonesia\n",
              "...             ...                 ...        ...\n",
              "8427761  2013-04-01              27.047  Indonesia\n",
              "8427762  2013-05-01              27.125  Indonesia\n",
              "8427763  2013-06-01              26.909  Indonesia\n",
              "8427764  2013-07-01              26.377  Indonesia\n",
              "8427765  2013-08-01              26.950  Indonesia\n",
              "\n",
              "[273295 rows x 3 columns]"
            ]
          },
          "metadata": {
            "tags": []
          },
          "execution_count": 8
        }
      ]
    },
    {
      "cell_type": "markdown",
      "metadata": {
        "id": "30xk7VwYkHP8"
      },
      "source": [
        "Plot data"
      ]
    },
    {
      "cell_type": "code",
      "metadata": {
        "colab": {
          "base_uri": "https://localhost:8080/",
          "height": 341
        },
        "id": "a-exLD1Pj9M0",
        "outputId": "4f89633b-e4e5-4a60-d89d-e82d09a02ef0"
      },
      "source": [
        "dates = data_train['dt'].values\n",
        "temp  = data_train['AverageTemperature'].values\n",
        "\n",
        "plt.figure(figsize=(15,5))\n",
        "plt.plot(dates, temp)\n",
        "plt.title('Average Temperature in Indonesia',\n",
        "          fontsize=20);"
      ],
      "execution_count": 10,
      "outputs": [
        {
          "output_type": "display_data",
          "data": {
            "image/png": "[encoded data removed]",
            "text/plain": [
              "<Figure size 1080x360 with 1 Axes>"
            ]
          },
          "metadata": {
            "tags": [],
            "needs_background": "light"
          }
        }
      ]
    },
    {
      "cell_type": "markdown",
      "metadata": {
        "id": "D-EoQcmW9uHL"
      },
      "source": [
        "Membagi Dataset"
      ]
    },
    {
      "cell_type": "code",
      "metadata": {
        "id": "zCjkSAG49k5S"
      },
      "source": [
        "x_train, x_val, y_train, y_val = train_test_split(temp, dates, train_size=0.8, test_size = 0.2, shuffle = False )"
      ],
      "execution_count": 11,
      "outputs": []
    },
    {
      "cell_type": "markdown",
      "metadata": {
        "id": "k7o7eyeh9x6S"
      },
      "source": [
        "Rincian Dataset"
      ]
    },
    {
      "cell_type": "code",
      "metadata": {
        "colab": {
          "base_uri": "https://localhost:8080/"
        },
        "id": "boLAyfYP90Po",
        "outputId": "d5db8e7a-aed9-4cde-91f7-3e6fcf6f79c1"
      },
      "source": [
        "print('Total Data Train : ',len(x_train))\n",
        "print('Total Data Validation : ',len(x_val))"
      ],
      "execution_count": 12,
      "outputs": [
        {
          "output_type": "stream",
          "text": [
            "Total Data Train :  218636\n",
            "Total Data Validation :  54659\n"
          ],
          "name": "stdout"
        }
      ]
    },
    {
      "cell_type": "markdown",
      "metadata": {
        "id": "Cud_osGvkDwI"
      },
      "source": [
        "Merubah data agar dapat diterima model"
      ]
    },
    {
      "cell_type": "code",
      "metadata": {
        "id": "PWjfphS2kDAw"
      },
      "source": [
        "def windowed_dataset(series, window_size, batch_size, shuffle_buffer):\n",
        "    series = tf.expand_dims(series, axis=-1)\n",
        "    ds = tf.data.Dataset.from_tensor_slices(series)\n",
        "    ds = ds.window(window_size + 1, shift=1, drop_remainder=True)\n",
        "    ds = ds.flat_map(lambda w: w.batch(window_size + 1))\n",
        "    ds = ds.shuffle(shuffle_buffer)\n",
        "    ds = ds.map(lambda w: (w[:-1], w[-1:]))\n",
        "    return ds.batch(batch_size).prefetch(1)"
      ],
      "execution_count": 13,
      "outputs": []
    },
    {
      "cell_type": "markdown",
      "metadata": {
        "id": "79e2bHNDkAYh"
      },
      "source": [
        "Model"
      ]
    },
    {
      "cell_type": "code",
      "metadata": {
        "id": "69cmeDJd_NMD"
      },
      "source": [
        "tf.keras.backend.set_floatx('float64')\n",
        "\n",
        "train_set = windowed_dataset(x_train, window_size=60, batch_size=100, shuffle_buffer=1000)\n",
        "val_set = windowed_dataset(x_val, window_size=60, batch_size=100, shuffle_buffer=1000)\n",
        "\n",
        "model = Sequential([\n",
        "    Bidirectional(LSTM(60, return_sequences=True)),\n",
        "    Bidirectional(LSTM(60)),\n",
        "    Dense(30, activation=\"relu\"),\n",
        "    Dense(10, activation=\"relu\"),\n",
        "    Dense(1),\n",
        "])"
      ],
      "execution_count": 14,
      "outputs": []
    },
    {
      "cell_type": "markdown",
      "metadata": {
        "id": "Gt2v-oqVFOgi"
      },
      "source": [
        "MAE"
      ]
    },
    {
      "cell_type": "code",
      "metadata": {
        "colab": {
          "base_uri": "https://localhost:8080/"
        },
        "id": "hfTgsuGwFQg8",
        "outputId": "66274f82-1700-4003-8cce-3a9287c7962e"
      },
      "source": [
        "min_MAE = (temp.max() - temp.min()) * 10/100\n",
        "min_MAE"
      ],
      "execution_count": 15,
      "outputs": [
        {
          "output_type": "execute_result",
          "data": {
            "text/plain": [
              "0.7617999999999998"
            ]
          },
          "metadata": {
            "tags": []
          },
          "execution_count": 15
        }
      ]
    },
    {
      "cell_type": "markdown",
      "metadata": {
        "id": "nktwyzZWkkFw"
      },
      "source": [
        "Callback"
      ]
    },
    {
      "cell_type": "code",
      "metadata": {
        "id": "FnO1S9c1tKzG"
      },
      "source": [
        "class myCallback(tf.keras.callbacks.Callback):\n",
        "  def on_epoch_end(self, epoch, logs={}):\n",
        "    if(logs.get('mae')<min_MAE):\n",
        "      print(\"\\nMAE dari model < 10% skala data\")\n",
        "      self.model.stop_training = True\n",
        "callbacks = myCallback()"
      ],
      "execution_count": 16,
      "outputs": []
    },
    {
      "cell_type": "markdown",
      "metadata": {
        "id": "IbiHldhSk43H"
      },
      "source": [
        "Proses Training"
      ]
    },
    {
      "cell_type": "code",
      "metadata": {
        "colab": {
          "base_uri": "https://localhost:8080/"
        },
        "id": "bEWgnMzw_fRI",
        "outputId": "6826382a-cc9f-4bcd-be8c-d3b8c2be6138"
      },
      "source": [
        "optimizer = tf.keras.optimizers.SGD(learning_rate=1.0000e-04, momentum=0.9)\n",
        "\n",
        "model.compile(loss=tf.keras.losses.Huber(),\n",
        "              optimizer=optimizer,\n",
        "              metrics=[\"mae\"])\n",
        "\n",
        "history = model.fit(train_set, epochs=100, validation_data = val_set, callbacks=[callbacks])\n"
      ],
      "execution_count": 17,
      "outputs": [
        {
          "output_type": "stream",
          "text": [
            "Epoch 1/100\n",
            "      6/Unknown - 8s 113ms/step - loss: 25.1212 - mae: 25.6212WARNING:tensorflow:Callback method `on_train_batch_end` is slow compared to the batch time (batch time: 0.0468s vs `on_train_batch_end` time: 0.0727s). Check your callbacks.\n",
            "2186/2186 [==============================] - 255s 114ms/step - loss: 2.9956 - mae: 3.3603 - val_loss: 0.4085 - val_mae: 0.7721\n",
            "Epoch 2/100\n",
            "2186/2186 [==============================] - 248s 113ms/step - loss: 0.3178 - mae: 0.6594 - val_loss: 0.4077 - val_mae: 0.7707\n",
            "\n",
            "MAE dari model < 10% skala data\n"
          ],
          "name": "stdout"
        }
      ]
    },
    {
      "cell_type": "code",
      "metadata": {
        "colab": {
          "base_uri": "https://localhost:8080/",
          "height": 573
        },
        "id": "Ecosbbswskir",
        "outputId": "95bd7ffa-6716-4896-e938-9ae07f223977"
      },
      "source": [
        "# Model Accuracy\n",
        "plt.plot(history.history['mae'])\n",
        "plt.plot(history.history['val_mae'])\n",
        "plt.title('Model Accuracy')\n",
        "plt.ylabel('Mae')\n",
        "plt.xlabel('epoch')\n",
        "plt.legend(['Train', 'Val'], loc='upper left')\n",
        "plt.show()\n",
        "\n",
        "# Model Loss\n",
        "plt.plot(history.history['loss'])\n",
        "plt.plot(history.history['val_loss'])\n",
        "plt.title('Model Loss')\n",
        "plt.ylabel('loss')\n",
        "plt.xlabel('epoch')\n",
        "plt.legend(['Train', 'Val'], loc='upper left')\n",
        "plt.show()"
      ],
      "execution_count": 18,
      "outputs": [
        {
          "output_type": "display_data",
          "data": {
            "image/png": "[encoded data removed]",
            "text/plain": [
              "<Figure size 432x288 with 1 Axes>"
            ]
          },
          "metadata": {
            "tags": [],
            "needs_background": "light"
          }
        },
        {
          "output_type": "display_data",
          "data": {
            "image/png": "[encoded data removed]",
            "text/plain": [
              "<Figure size 432x288 with 1 Axes>"
            ]
          },
          "metadata": {
            "tags": [],
            "needs_background": "light"
          }
        }
      ]
    },
    {
      "cell_type": "markdown",
      "metadata": {
        "id": "zPl7f27MF20m"
      },
      "source": [
        "Dataset : https://www.kaggle.com/berkeleyearth/climate-change-earth-surface-temperature-data?select=GlobalLandTemperaturesByCity.csv"
      ]
    }
  ]
}